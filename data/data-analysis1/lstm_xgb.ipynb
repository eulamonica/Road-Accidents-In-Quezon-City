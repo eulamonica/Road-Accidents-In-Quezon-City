{
 "cells": [
  {
   "cell_type": "code",
   "execution_count": 1,
   "metadata": {},
   "outputs": [
    {
     "ename": "ModuleNotFoundError",
     "evalue": "No module named 'pmdarima'",
     "output_type": "error",
     "traceback": [
      "\u001b[1;31m---------------------------------------------------------------------------\u001b[0m",
      "\u001b[1;31mModuleNotFoundError\u001b[0m                       Traceback (most recent call last)",
      "\u001b[1;32md:\\Downloads\\Road-Accidents-In-Quezon-City-master\\Road-Accidents-In-Quezon-City-master\\data\\data-analysis1\\lstm_xgb.ipynb Cell 1\u001b[0m in \u001b[0;36m<cell line: 11>\u001b[1;34m()\u001b[0m\n\u001b[0;32m      <a href='vscode-notebook-cell:/d%3A/Downloads/Road-Accidents-In-Quezon-City-master/Road-Accidents-In-Quezon-City-master/data/data-analysis1/lstm_xgb.ipynb#W0sZmlsZQ%3D%3D?line=8'>9</a>\u001b[0m \u001b[39mfrom\u001b[39;00m \u001b[39mstatsmodels\u001b[39;00m\u001b[39m.\u001b[39;00m\u001b[39mtsa\u001b[39;00m\u001b[39m.\u001b[39;00m\u001b[39marima\u001b[39;00m\u001b[39m.\u001b[39;00m\u001b[39mmodel\u001b[39;00m \u001b[39mimport\u001b[39;00m ARIMA\n\u001b[0;32m     <a href='vscode-notebook-cell:/d%3A/Downloads/Road-Accidents-In-Quezon-City-master/Road-Accidents-In-Quezon-City-master/data/data-analysis1/lstm_xgb.ipynb#W0sZmlsZQ%3D%3D?line=9'>10</a>\u001b[0m \u001b[39mfrom\u001b[39;00m \u001b[39mstatsmodels\u001b[39;00m\u001b[39m.\u001b[39;00m\u001b[39mtsa\u001b[39;00m\u001b[39m.\u001b[39;00m\u001b[39mstatespace\u001b[39;00m\u001b[39m.\u001b[39;00m\u001b[39msarimax\u001b[39;00m \u001b[39mimport\u001b[39;00m SARIMAX\n\u001b[1;32m---> <a href='vscode-notebook-cell:/d%3A/Downloads/Road-Accidents-In-Quezon-City-master/Road-Accidents-In-Quezon-City-master/data/data-analysis1/lstm_xgb.ipynb#W0sZmlsZQ%3D%3D?line=10'>11</a>\u001b[0m \u001b[39mfrom\u001b[39;00m \u001b[39mpmdarima\u001b[39;00m\u001b[39m.\u001b[39;00m\u001b[39mmodel_selection\u001b[39;00m \u001b[39mimport\u001b[39;00m train_test_split \u001b[39mas\u001b[39;00m time_train_test_split\n\u001b[0;32m     <a href='vscode-notebook-cell:/d%3A/Downloads/Road-Accidents-In-Quezon-City-master/Road-Accidents-In-Quezon-City-master/data/data-analysis1/lstm_xgb.ipynb#W0sZmlsZQ%3D%3D?line=11'>12</a>\u001b[0m \u001b[39mfrom\u001b[39;00m \u001b[39mxgboost\u001b[39;00m \u001b[39mimport\u001b[39;00m XGBRegressor\n\u001b[0;32m     <a href='vscode-notebook-cell:/d%3A/Downloads/Road-Accidents-In-Quezon-City-master/Road-Accidents-In-Quezon-City-master/data/data-analysis1/lstm_xgb.ipynb#W0sZmlsZQ%3D%3D?line=12'>13</a>\u001b[0m \u001b[39mfrom\u001b[39;00m \u001b[39mxgboost\u001b[39;00m \u001b[39mimport\u001b[39;00m plot_importance\n",
      "\u001b[1;31mModuleNotFoundError\u001b[0m: No module named 'pmdarima'"
     ]
    }
   ],
   "source": [
    "import os\n",
    "import pandas as pd\n",
    "import numpy as np\n",
    "import matplotlib.pyplot as plt\n",
    "import seaborn as sns\n",
    "import math\n",
    "\n",
    "from sklearn import metrics\n",
    "from statsmodels.tsa.arima.model import ARIMA\n",
    "from statsmodels.tsa.statespace.sarimax import SARIMAX\n",
    "from pmdarima.model_selection import train_test_split as time_train_test_split\n",
    "from xgboost import XGBRegressor\n",
    "from xgboost import plot_importance\n",
    "from datetime import timedelta\n",
    "\n",
    "import xgboost as xgb\n",
    "from sklearn.metrics import mean_squared_error\n",
    "color_pal = sns.color_palette()\n",
    "plt.style.use('fivethirtyeight')"
   ]
  },
  {
   "cell_type": "code",
   "execution_count": null,
   "metadata": {},
   "outputs": [],
   "source": [
    "df_month = pd.read_csv(\n",
    "    './data/Road Crash Statistics in Quezon City (2018-2022) - Classification by Month per case basis .csv' , index_col=False)\n",
    "df_hour = pd.read_csv(\n",
    "    './data/Road Crash Statistics in Quezon City (2018-2022) - Classification by Time of Day.csv', index_col=False )"
   ]
  },
  {
   "cell_type": "code",
   "execution_count": null,
   "metadata": {},
   "outputs": [],
   "source": [
    "df_month.head()"
   ]
  },
  {
   "cell_type": "code",
   "execution_count": null,
   "metadata": {},
   "outputs": [],
   "source": [
    "df_hour.head()"
   ]
  },
  {
   "attachments": {},
   "cell_type": "markdown",
   "metadata": {},
   "source": [
    "## Title: Data Cleaning"
   ]
  },
  {
   "cell_type": "markdown",
   "metadata": {},
   "source": []
  },
  {
   "cell_type": "code",
   "execution_count": null,
   "metadata": {},
   "outputs": [],
   "source": [
    "DEPENDENT_VARIABLE = \"Grand Total\""
   ]
  },
  {
   "cell_type": "code",
   "execution_count": null,
   "metadata": {},
   "outputs": [],
   "source": [
    "df_month[DEPENDENT_VARIABLE] =df_month[DEPENDENT_VARIABLE].fillna(0)\n",
    "df_month[DEPENDENT_VARIABLE] = df_month[DEPENDENT_VARIABLE].apply(\n",
    "    lambda x: 0 if x == 0 or x == '' or x == ' ' \n",
    "    else float ( \n",
    "        str(x).replace(',','').replace('',''))\n",
    "    )"
   ]
  },
  {
   "cell_type": "code",
   "execution_count": null,
   "metadata": {},
   "outputs": [],
   "source": [
    "df_hour[DEPENDENT_VARIABLE] =df_hour[DEPENDENT_VARIABLE].fillna(0)\n",
    "df_hour[DEPENDENT_VARIABLE] = df_hour[DEPENDENT_VARIABLE].apply(\n",
    "    lambda x: 0 if x == 0 or x == '' or x == ' ' \n",
    "    else float ( \n",
    "        str(x).replace(',','').replace('',''))\n",
    "    )"
   ]
  },
  {
   "cell_type": "code",
   "execution_count": null,
   "metadata": {},
   "outputs": [],
   "source": [
    "df_month.info()"
   ]
  },
  {
   "cell_type": "code",
   "execution_count": null,
   "metadata": {},
   "outputs": [],
   "source": [
    "df_hour.info()"
   ]
  },
  {
   "cell_type": "code",
   "execution_count": null,
   "metadata": {},
   "outputs": [],
   "source": [
    "df_month.describe()"
   ]
  },
  {
   "cell_type": "code",
   "execution_count": null,
   "metadata": {},
   "outputs": [],
   "source": [
    "df_hour.describe()"
   ]
  },
  {
   "cell_type": "code",
   "execution_count": null,
   "metadata": {},
   "outputs": [],
   "source": [
    "df_month[DEPENDENT_VARIABLE].plot(style='-.',\n",
    "    figsize=(15, 5),\n",
    "    )\n",
    "plt.show()"
   ]
  },
  {
   "cell_type": "code",
   "execution_count": null,
   "metadata": {},
   "outputs": [],
   "source": [
    "df_hour[DEPENDENT_VARIABLE].plot(style='-.',\n",
    "                        figsize=(15, 5),\n",
    "                        )\n",
    "plt.show()"
   ]
  },
  {
   "cell_type": "code",
   "execution_count": null,
   "metadata": {},
   "outputs": [],
   "source": [
    "df_month[DEPENDENT_VARIABLE].plot(kind='hist', bins=100);"
   ]
  },
  {
   "cell_type": "code",
   "execution_count": null,
   "metadata": {},
   "outputs": [],
   "source": [
    "df_hour[DEPENDENT_VARIABLE].plot(kind='hist', bins=100);"
   ]
  },
  {
   "cell_type": "code",
   "execution_count": null,
   "metadata": {},
   "outputs": [],
   "source": [
    "# ----------- Hour -----------\n",
    "df_hour_X = df_hour.copy()\n",
    "\n",
    "# Test Size = 20%\n",
    "train_hour, test_hour = time_train_test_split(df_hour_X, test_size=int(len(df_month)*0.42))\n",
    "\n",
    "train_hour = pd.DataFrame(train_hour)\n",
    "test_hour = pd.DataFrame(test_hour)\n",
    "\n",
    "# ----------- Monthly -----------\n",
    "df_month_X = df_month.copy()\n",
    "\n",
    "# Test Size = 20%\n",
    "train_month, test_month = time_train_test_split(df_month_X, test_size=int(len(df_month)*0.2))\n",
    "\n",
    "train_month = pd.DataFrame(train_month)\n",
    "test_month = pd.DataFrame(test_month)\n"
   ]
  },
  {
   "cell_type": "code",
   "execution_count": null,
   "metadata": {},
   "outputs": [],
   "source": [
    "test_hour.head(24)"
   ]
  },
  {
   "cell_type": "code",
   "execution_count": null,
   "metadata": {},
   "outputs": [],
   "source": [
    "test_month.head(12)"
   ]
  },
  {
   "cell_type": "code",
   "execution_count": null,
   "metadata": {},
   "outputs": [],
   "source": [
    "overview_Train_Test_Data = test_hour[[DEPENDENT_VARIABLE]].rename(columns={DEPENDENT_VARIABLE: 'TEST SET'}) .join( train_hour[[DEPENDENT_VARIABLE]].rename(columns={DEPENDENT_VARIABLE: 'TRAINING SET'}), how='outer').plot(figsize=(15,5), title='Overview Train Test Data', style='-.')"
   ]
  },
  {
   "cell_type": "code",
   "execution_count": null,
   "metadata": {},
   "outputs": [],
   "source": [
    "train_month.head()"
   ]
  },
  {
   "cell_type": "code",
   "execution_count": null,
   "metadata": {},
   "outputs": [],
   "source": [
    "train_hour.head()"
   ]
  },
  {
   "cell_type": "code",
   "execution_count": null,
   "metadata": {},
   "outputs": [],
   "source": [
    "dtime_day = {\n",
    "    \"00:00-00:59\": \"Night\",\n",
    "    \"01:00-01:59\": \"Night\",\n",
    "    \"02:00-02:59\": \"Night\",\n",
    "    \"03:00-03:59\": \"Night\",\n",
    "    \"04:00-04:59\": \"Night\",\n",
    "    \"05:00-05:59\": \"Morning\",\n",
    "    \"06:00-06:59\": \"Morning\",\n",
    "    \"07:00-07:59\": \"Morning\",\n",
    "    \"08:00-08:59\": \"Morning\",\n",
    "    \"09:00-09:59\": \"Morning\",\n",
    "    \"10:00-10:59\": \"Morning\",\n",
    "    \"11:00-11:59\": \"Morning\",\n",
    "    \"12:00-12:59\": \"Afternoon\",\n",
    "    \"13:00-13:59\": \"Afternoon\",\n",
    "    \"14:00-14:59\": \"Afternoon\",\n",
    "    \"15:00-15:59\": \"Afternoon\",\n",
    "    \"16:00-16:59\": \"Afternoon\",\n",
    "    \"17:00-17:59\": \"Afternoon\",\n",
    "    \"18:00-18:59\": \"Evening\",\n",
    "    \"19:00-19:59\": \"Evening\",\n",
    "    \"20:00-20:59\": \"Night\",\n",
    "    \"21:00-21:59\": \"Night\",\n",
    "    \"22:00-22:59\": \"Night\",\n",
    "    \"23:00-23:59\": \"Night\",\n",
    "    \"Time Not Stated\": \"unkown\",\n",
    "}\n",
    "\n",
    "# 0 - Not rush hour \n",
    "# 1 - Rush hour\n",
    "'''\n",
    "Worst traffic is at 7AM to 9AM and on 5PM to 9PM\n",
    "Medium traffic is at 9AM to 10AM and on 9PM to 11PM\n",
    "Low Traffic rest of the Hour\n",
    "'''\n",
    "rush_hour = {\n",
    "    \"00:00-00:59\":  \"Low\",\n",
    "    \"01:00-01:59\":  \"Low\",\n",
    "    \"02:00-02:59\": \"Low\",\n",
    "    \"03:00-03:59\": \"Low\",\n",
    "    \"04:00-04:59\": \"Low\",\n",
    "    \"05:00-05:59\": \"Low\",\n",
    "    \"06:00-06:59\": \"Low\",\n",
    "    \"07:00-07:59\": \"High\",\n",
    "    \"08:00-08:59\": \"High\",\n",
    "    \"09:00-09:59\": \"Medium\",\n",
    "    \"10:00-10:59\": \"Low\",\n",
    "    \"11:00-11:59\": \"Low\",\n",
    "    \"12:00-12:59\": \"Low\",\n",
    "    \"13:00-13:59\": \"Low\",\n",
    "    \"14:00-14:59\": \"Low\",\n",
    "    \"15:00-15:59\": \"Low\",\n",
    "    \"16:00-16:59\": \"Low\",\n",
    "    \"17:00-17:59\": \"High\",\n",
    "    \"18:00-18:59\": \"High\",\n",
    "    \"19:00-19:59\": \"High\",\n",
    "    \"20:00-20:59\": \"High\",\n",
    "    \"21:00-21:59\": \"Medium\",\n",
    "    \"22:00-22:59\": \"Medium\",\n",
    "    \"23:00-23:59\": \"Medium\",\n",
    "    \"Time Not Stated\": \"Neutral\",\n",
    "}\n",
    "from dateutil.relativedelta import relativedelta, MO\n",
    "def create_features_monthly(df, target_variable):\n",
    "    df['Year'] = df['Year'].apply(lambda x: int(x))\n",
    "    X = df[[\n",
    "        'Year', 'Month'\n",
    "    ]]\n",
    "    X = pd.get_dummies(X, columns = ['Month'])\n",
    "    if target_variable:\n",
    "        y = df[target_variable]\n",
    "        return X, y\n",
    "    return X\n",
    "\n",
    "\n",
    "def create_features_hourly(df, target_variable):\n",
    "    def hourmin_decimal(time, index):\n",
    "        if time == 'Time Not Stated': \n",
    "            return -1 \n",
    "        time = time.split('-')[index].split(':')\n",
    "        hour = int(time[0])\n",
    "        minutes = int(time[-1])\n",
    "        return int(hour) * 3600 + int(minutes) * 60\n",
    "\n",
    "    df['Year'] = df['Year'].apply(lambda x: int(x))\n",
    "    df['Day Time'] = df['Time Hour'].apply(lambda x:  dtime_day[x])\n",
    "    df['Hour Start'] = df['Time Hour'].apply(lambda x: hourmin_decimal(x,0))\n",
    "    df['Hour End'] = df['Time Hour'].apply(lambda x: hourmin_decimal(x,-1))\n",
    "    df['Traffic'] = df['Time Hour'].apply(lambda x: rush_hour[x])\n",
    "    X = df[[\n",
    "        'Year', 'Day Time', 'Hour Start', 'Hour End', 'Traffic'\n",
    "    ]]\n",
    "    X = pd.get_dummies(X, columns = ['Day Time', 'Traffic'])\n",
    "    if target_variable:\n",
    "        y = df[target_variable]\n",
    "        return X, y\n",
    "    return X\n",
    "\n",
    "\n",
    "\n",
    "def mean_absolute_percentage_error_func(y_true, y_pred):\n",
    "    '''\n",
    "    Calculate the mean absolute percentage error as a metric for evaluation\n",
    "    \n",
    "    Args:\n",
    "        y_true (float64): Y values for the dependent variable (test part), numpy array of floats \n",
    "        y_pred (float64): Predicted values for the dependen variable (test parrt), numpy array of floats\n",
    "    \n",
    "    Returns:\n",
    "        Mean absolute percentage error \n",
    "    '''    \n",
    "    y_true, y_pred = np.array(y_true), np.array(y_pred)\n",
    "    mape = np.mean(np.abs((y_true - y_pred) / y_true))\n",
    "    return mape\n",
    "\n",
    "\n",
    "def timeseries_evaluation_metrics_func(y_true, y_pred):\n",
    "    '''\n",
    "    Calculate the following evaluation metrics:\n",
    "        - MSE\n",
    "        - MAE\n",
    "        - RMSE\n",
    "        - MAPE\n",
    "        - R²\n",
    "    \n",
    "    Args:\n",
    "        y_true (float64): Y values for the dependent variable (test part), numpy array of floats \n",
    "        y_pred (float64): Predicted values for the dependen variable (test parrt), numpy array of floats\n",
    "    \n",
    "    Returns:\n",
    "        MSE, MAE, RMSE, MAPE and R² \n",
    "    '''    \n",
    "    #print('Evaluation metric results: ')\n",
    "    print(f'MSE is : {metrics.mean_squared_error(y_true, y_pred)}')\n",
    "    print(f'MAE is : {metrics.mean_absolute_error(y_true, y_pred)}')\n",
    "    print(f'RMSE is : {np.sqrt(metrics.mean_squared_error(y_true, y_pred))}')\n",
    "    print(f'MAPE is : {mean_absolute_percentage_error_func(y_true, y_pred)}')\n",
    "    print(f'R2 is : {metrics.r2_score(y_true, y_pred)}',end='\\n\\n')\n"
   ]
  },
  {
   "cell_type": "code",
   "execution_count": null,
   "metadata": {},
   "outputs": [],
   "source": [
    "train_hour_copy = train_hour.copy()\n",
    "test_hour_copy = test_hour.copy()\n",
    "\n",
    "hour_trainX, hour_trainY = create_features_hourly(train_hour_copy, target_variable=DEPENDENT_VARIABLE)\n",
    "hour_testX, hour_testY = create_features_hourly(test_hour_copy, target_variable=DEPENDENT_VARIABLE)"
   ]
  },
  {
   "cell_type": "code",
   "execution_count": null,
   "metadata": {},
   "outputs": [],
   "source": [
    "train_month_copy = train_month.copy()\n",
    "test_month_copy = test_month.copy()\n",
    "\n",
    "month_trainX, month_trainY = create_features_monthly(train_month_copy, target_variable=DEPENDENT_VARIABLE)\n",
    "month_testX, month_testY = create_features_monthly(test_month_copy, target_variable=DEPENDENT_VARIABLE)"
   ]
  },
  {
   "cell_type": "code",
   "execution_count": null,
   "metadata": {},
   "outputs": [],
   "source": [
    "hour_trainX.head()"
   ]
  },
  {
   "cell_type": "code",
   "execution_count": null,
   "metadata": {},
   "outputs": [],
   "source": [
    "hour_trainY"
   ]
  },
  {
   "cell_type": "code",
   "execution_count": null,
   "metadata": {},
   "outputs": [],
   "source": [
    "month_trainX.head()"
   ]
  },
  {
   "cell_type": "code",
   "execution_count": null,
   "metadata": {},
   "outputs": [],
   "source": [
    "import numpy as np\n",
    "import pandas as pd\n",
    "import tensorflow as tf \n",
    "from tensorflow.keras.models import Model\n",
    "from tensorflow.keras.layers import Input, LSTM, Dense\n",
    "from sklearn.model_selection import train_test_split\n",
    "from sklearn.preprocessing import MinMaxScaler\n",
    "import xgboost as xgb"
   ]
  },
  {
   "cell_type": "code",
   "execution_count": null,
   "metadata": {},
   "outputs": [],
   "source": []
  },
  {
   "cell_type": "code",
   "execution_count": null,
   "metadata": {},
   "outputs": [],
   "source": []
  }
 ],
 "metadata": {
  "kernelspec": {
   "display_name": "Python 3",
   "language": "python",
   "name": "python3"
  },
  "language_info": {
   "codemirror_mode": {
    "name": "ipython",
    "version": 3
   },
   "file_extension": ".py",
   "mimetype": "text/x-python",
   "name": "python",
   "nbconvert_exporter": "python",
   "pygments_lexer": "ipython3",
   "version": "3.9.12"
  },
  "orig_nbformat": 4,
  "vscode": {
   "interpreter": {
    "hash": "816bcb1acf3b0b8fab6f91344f50dba776102e66bf24f6bf8c7d1223b2089b00"
   }
  }
 },
 "nbformat": 4,
 "nbformat_minor": 2
}
