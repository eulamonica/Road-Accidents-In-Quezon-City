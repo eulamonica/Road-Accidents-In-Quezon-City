{
 "cells": [
  {
   "attachments": {},
   "cell_type": "markdown",
   "metadata": {},
   "source": [
    "### ML and Deep learning models \n",
    "Researchers use this different kind of models to train and select the best model for this study\n",
    "1. ARIMA\n",
    "2. ARIMAX\n",
    "3. SARIMAX\n",
    "4. AR\n",
    "5. MA\n",
    "6. ARMA\n",
    "7. VAR \n",
    "8. VECM\n",
    "9. XGBOOST REGRESSOR\n",
    "10. LSTM\n",
    "11. LSTM + SHAP\n",
    "12. LSTM + XGB \n",
    "13. LSTM \n",
    "14. SGD Regressor\n",
    "15. Lasso  \n",
    "16. SVR(kernel='rbf')\n",
    "17. RidgeRegression\n",
    "18. ENsembleRegressors\n",
    "19. SVR(kernel='linear')\n",
    "20. ElasticNet\n",
    "\n"
   ]
  },
  {
   "cell_type": "markdown",
   "metadata": {},
   "source": []
  }
 ],
 "metadata": {
  "kernelspec": {
   "display_name": "base",
   "language": "python",
   "name": "python3"
  },
  "language_info": {
   "name": "python",
   "version": "3.9.12"
  },
  "orig_nbformat": 4,
  "vscode": {
   "interpreter": {
    "hash": "84e550792e4b4bf3acd96be1e38e75140ac850e56493bfc23b49998054babce9"
   }
  }
 },
 "nbformat": 4,
 "nbformat_minor": 2
}
